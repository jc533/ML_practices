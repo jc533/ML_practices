{
  "nbformat": 4,
  "nbformat_minor": 0,
  "metadata": {
    "colab": {
      "provenance": [],
      "gpuType": "T4",
      "authorship_tag": "ABX9TyMnjGKyWZfBPfgyfBtCsCuG",
      "include_colab_link": true
    },
    "kernelspec": {
      "name": "python3",
      "display_name": "Python 3"
    },
    "language_info": {
      "name": "python"
    }
  },
  "cells": [
    {
      "cell_type": "markdown",
      "metadata": {
        "id": "view-in-github",
        "colab_type": "text"
      },
      "source": [
        "<a href=\"https://colab.research.google.com/github/jc533/ML_practices/blob/main/regression.ipynb\" target=\"_parent\"><img src=\"https://colab.research.google.com/assets/colab-badge.svg\" alt=\"Open In Colab\"/></a>"
      ]
    },
    {
      "cell_type": "markdown",
      "source": [
        "# regression\n",
        "output scalar\n",
        "- linear regression\n"
      ],
      "metadata": {
        "id": "wNP9cbmtBA-2"
      }
    },
    {
      "cell_type": "code",
      "source": [
        "# without pytorch"
      ],
      "metadata": {
        "id": "n51NBp9OBPz2"
      },
      "execution_count": 147,
      "outputs": []
    },
    {
      "cell_type": "code",
      "source": [
        "# pytorch\n",
        "import numpy as np\n",
        "import torch\n",
        "from torch import nn\n",
        "from torch.utils.data import DataLoader, Dataset"
      ],
      "metadata": {
        "id": "FqB5cSNkECpZ"
      },
      "execution_count": 148,
      "outputs": []
    },
    {
      "cell_type": "code",
      "source": [
        "# dataset\n",
        "def f(x):\n",
        "    return x*3+20;\n",
        "class MyDataset(Dataset):\n",
        "    def __init__(self,size=10):\n",
        "        x = np.random.rand(size)*100\n",
        "        self.x = torch.from_numpy(x)\n",
        "        self.y = torch.from_numpy(f(x)+np.random.rand(size)*10-np.random.rand(size)*10)\n",
        "        print(self.y)\n",
        "        # self.data = torch.from_numpy(np.array([x,y]))\n",
        "    def __getitem__(self,index):\n",
        "        return torch.tensor([self.x[index]]),torch.tensor([self.y[index]])\n",
        "    def __len__(self):\n",
        "        return len(self.x)"
      ],
      "metadata": {
        "id": "9PyqBxDxGKQs"
      },
      "execution_count": 149,
      "outputs": []
    },
    {
      "cell_type": "code",
      "source": [],
      "metadata": {
        "id": "7afZ3qicUhwx"
      },
      "execution_count": 149,
      "outputs": []
    },
    {
      "cell_type": "markdown",
      "source": [
        "```\n",
        "pytorch dataset structure\n",
        "hole: [\n",
        "    batch:[data: [data]]\n",
        "]\n",
        "```"
      ],
      "metadata": {
        "id": "VBCl_YgXIKJ7"
      }
    },
    {
      "cell_type": "code",
      "source": [
        "# model\n",
        "class Model(nn.Module):\n",
        "    def __init__(self):\n",
        "        super(Model, self).__init__()\n",
        "        self.net = nn.Linear(1,1)\n",
        "    def forward(self, x):\n",
        "        return self.net(x)"
      ],
      "metadata": {
        "id": "7m2PsGoYs37q"
      },
      "execution_count": 150,
      "outputs": []
    },
    {
      "cell_type": "code",
      "source": [
        "# dataloader\n",
        "train,test = MyDataset(),MyDataset()\n",
        "train_loader = DataLoader(train, batch_size=1, shuffle=True)\n",
        "test_loader = DataLoader(test, batch_size=1, shuffle=False)"
      ],
      "metadata": {
        "id": "tOVfCz_7fgZ2",
        "colab": {
          "base_uri": "https://localhost:8080/"
        },
        "outputId": "1b96544b-f4fd-4248-bc65-e6149a3182c5"
      },
      "execution_count": 151,
      "outputs": [
        {
          "output_type": "stream",
          "name": "stdout",
          "text": [
            "tensor([ 62.2441,  41.3842, 248.0754, 198.6436, 139.8748,  65.5429, 251.4772,\n",
            "        236.7172, 208.3033,  79.2786], dtype=torch.float64)\n",
            "tensor([233.6047, 257.9623, 297.5735, 163.1367, 103.6738,  69.9134, 229.5915,\n",
            "        246.4988,  65.5697, 170.4054], dtype=torch.float64)\n"
          ]
        }
      ]
    },
    {
      "cell_type": "code",
      "source": [
        "model = Model()\n",
        "criterion = nn.MSELoss()\n",
        "optimizer = torch.optim.SGD(model.parameters(),0.1)\n",
        "epochs = 20\n",
        "loss_record = []\n",
        "model.double()\n",
        "for epoch in range(epochs):\n",
        "    model.train()\n",
        "    for x,y in train_loader:\n",
        "        optimizer.zero_grad()\n",
        "        pred = model(x)\n",
        "        loss = criterion(pred,y)\n",
        "        print(loss.item())\n",
        "        loss_record.append(loss.item())\n",
        "        loss.backward()\n",
        "        optimizer.step()\n",
        "print(np.mean(loss_record))"
      ],
      "metadata": {
        "colab": {
          "base_uri": "https://localhost:8080/"
        },
        "id": "wv5MQmQDs96e",
        "outputId": "c461de54-0ce6-48d8-ea33-52b5810c8342"
      },
      "execution_count": 161,
      "outputs": [
        {
          "output_type": "stream",
          "name": "stdout",
          "text": [
            "38176.18739146237\n",
            "2234245323.400151\n",
            "142233990790541.25\n",
            "1.3512123396865606e+20\n",
            "7.993549198065454e+24\n",
            "1.3055219310246124e+28\n",
            "1.3294563694799845e+32\n",
            "4.533079980428191e+37\n",
            "7.248717958482929e+41\n",
            "9.46891669080172e+45\n",
            "1.0821584996110068e+52\n",
            "1.4474445339665575e+58\n",
            "2.547341333660018e+62\n",
            "1.1268448239066697e+65\n",
            "1.1477083831900734e+69\n",
            "3.680321859221091e+74\n",
            "2.691375827077332e+80\n",
            "1.5758651637319005e+85\n",
            "6.263602753855156e+88\n",
            "2.3007674062006606e+93\n",
            "1.4967388227574482e+98\n",
            "3.7809469050659575e+102\n",
            "1.70037314685518e+106\n",
            "2.3620592790168157e+110\n",
            "1.2695706770275917e+115\n",
            "6.168507308583779e+119\n",
            "2.214437503298385e+124\n",
            "5.1131628647455104e+128\n",
            "4.371720912730581e+134\n",
            "4.156857452624106e+140\n",
            "4.7235754035717985e+144\n",
            "1.8540577519892748e+148\n",
            "4.767376224479067e+152\n",
            "4.269217345246423e+157\n",
            "4.8796502340012084e+163\n",
            "2.46637144547149e+168\n",
            "1.4021863258173113e+173\n",
            "1.2002827494182894e+179\n",
            "2.9302342995266647e+183\n",
            "7.514832469778295e+187\n",
            "8.539210688567662e+191\n",
            "5.304470748607455e+194\n",
            "8.662883377213679e+197\n",
            "2.9392462868511697e+202\n",
            "2.5311341375851873e+207\n",
            "1.450714421457599e+212\n",
            "3.176849981079628e+217\n",
            "7.699650906484933e+222\n",
            "6.646471910112327e+228\n",
            "8.890009609393747e+234\n",
            "5.259184058723262e+239\n",
            "8.58940121700769e+242\n",
            "4.1304568043720865e+245\n",
            "4.359725044301697e+248\n",
            "1.1013864176146846e+253\n",
            "2.4031975002692615e+258\n",
            "1.867035151852882e+264\n",
            "2.1339927215079832e+270\n",
            "1.7334664819607054e+276\n",
            "1.64677980130407e+282\n",
            "1.4096571837070753e+288\n",
            "7.784216234320375e+293\n",
            "2.1112695079723875e+298\n",
            "1.0153852403828699e+301\n",
            "6.310511900447662e+303\n",
            "inf\n",
            "inf\n",
            "inf\n",
            "inf\n",
            "inf\n",
            "inf\n",
            "inf\n",
            "inf\n",
            "inf\n",
            "inf\n",
            "inf\n",
            "inf\n",
            "inf\n",
            "inf\n",
            "inf\n",
            "inf\n",
            "inf\n",
            "inf\n",
            "inf\n",
            "inf\n",
            "inf\n",
            "inf\n",
            "inf\n",
            "inf\n",
            "inf\n",
            "inf\n",
            "inf\n",
            "inf\n",
            "inf\n",
            "inf\n",
            "inf\n",
            "inf\n",
            "inf\n",
            "inf\n",
            "inf\n",
            "inf\n",
            "inf\n",
            "inf\n",
            "inf\n",
            "inf\n",
            "inf\n",
            "inf\n",
            "inf\n",
            "inf\n",
            "inf\n",
            "inf\n",
            "inf\n",
            "inf\n",
            "inf\n",
            "inf\n",
            "inf\n",
            "inf\n",
            "inf\n",
            "inf\n",
            "inf\n",
            "inf\n",
            "inf\n",
            "inf\n",
            "inf\n",
            "inf\n",
            "inf\n",
            "inf\n",
            "inf\n",
            "inf\n",
            "inf\n",
            "inf\n",
            "nan\n",
            "nan\n",
            "nan\n",
            "nan\n",
            "nan\n",
            "nan\n",
            "nan\n",
            "nan\n",
            "nan\n",
            "nan\n",
            "nan\n",
            "nan\n",
            "nan\n",
            "nan\n",
            "nan\n",
            "nan\n",
            "nan\n",
            "nan\n",
            "nan\n",
            "nan\n",
            "nan\n",
            "nan\n",
            "nan\n",
            "nan\n",
            "nan\n",
            "nan\n",
            "nan\n",
            "nan\n",
            "nan\n",
            "nan\n",
            "nan\n",
            "nan\n",
            "nan\n",
            "nan\n",
            "nan\n",
            "nan\n",
            "nan\n",
            "nan\n",
            "nan\n",
            "nan\n",
            "nan\n",
            "nan\n",
            "nan\n",
            "nan\n",
            "nan\n",
            "nan\n",
            "nan\n",
            "nan\n",
            "nan\n",
            "nan\n",
            "nan\n",
            "nan\n",
            "nan\n",
            "nan\n",
            "nan\n",
            "nan\n",
            "nan\n",
            "nan\n",
            "nan\n",
            "nan\n",
            "nan\n",
            "nan\n",
            "nan\n",
            "nan\n",
            "nan\n",
            "nan\n",
            "nan\n",
            "nan\n",
            "nan\n",
            "nan\n"
          ]
        }
      ]
    },
    {
      "cell_type": "code",
      "source": [
        "model.eval()\n",
        "preds = []\n",
        "for x,y in test_loader:\n",
        "    with torch.no_grad():\n",
        "        p = model(x)\n",
        "        preds.append(p.item())\n",
        "        print(criterion(p,y))\n",
        "print(np.mean(preds))"
      ],
      "metadata": {
        "colab": {
          "base_uri": "https://localhost:8080/"
        },
        "id": "Jy0_V-vWPemu",
        "outputId": "eebbb3fd-962a-4273-9d32-176875d767de"
      },
      "execution_count": 157,
      "outputs": [
        {
          "output_type": "stream",
          "name": "stdout",
          "text": [
            "tensor(4.8292e+99, dtype=torch.float64)\n",
            "tensor(6.0311e+99, dtype=torch.float64)\n",
            "tensor(7.8777e+99, dtype=torch.float64)\n",
            "tensor(2.0857e+99, dtype=torch.float64)\n",
            "tensor(6.4751e+98, dtype=torch.float64)\n",
            "tensor(2.8734e+98, dtype=torch.float64)\n",
            "tensor(4.4123e+99, dtype=torch.float64)\n",
            "tensor(5.1413e+99, dtype=torch.float64)\n",
            "tensor(2.1172e+98, dtype=torch.float64)\n",
            "tensor(2.1086e+99, dtype=torch.float64)\n",
            "-5.225736962077926e+49\n"
          ]
        }
      ]
    },
    {
      "cell_type": "code",
      "source": [
        "import matplotlib.pyplot as plt\n",
        "x = [i.item() for i in test.x]\n",
        "y = [i.item() for i in test.y]\n",
        "y_tr = [i.item() for i in train.y]\n",
        "x_tr = [i.item() for i in train.x]\n",
        "real = [f(i) for i in x]\n",
        "plt.plot(x,y,'o')\n",
        "# plt.xlim(0,1)\n",
        "# plt.ylim(0,30)\n",
        "plt.plot(x,preds,'-')\n",
        "plt.plot(x_tr,y_tr,'o')\n",
        "plt .plot(x,real)"
      ],
      "metadata": {
        "colab": {
          "base_uri": "https://localhost:8080/",
          "height": 447
        },
        "id": "ulVGJNeXJ01m",
        "outputId": "cb3a8f05-207d-4eaa-b073-bec65a963521"
      },
      "execution_count": 154,
      "outputs": [
        {
          "output_type": "execute_result",
          "data": {
            "text/plain": [
              "[<matplotlib.lines.Line2D at 0x7ac4eac7a440>]"
            ]
          },
          "metadata": {},
          "execution_count": 154
        },
        {
          "output_type": "display_data",
          "data": {
            "text/plain": [
              "<Figure size 640x480 with 1 Axes>"
            ],
            "image/png": "[encoded data removed]"
          },
          "metadata": {}
        }
      ]
    }
  ]
}