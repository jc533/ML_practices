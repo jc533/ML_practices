{
  "nbformat": 4,
  "nbformat_minor": 0,
  "metadata": {
    "colab": {
      "provenance": [],
      "authorship_tag": "ABX9TyPEPUKa/Puybu8CoVifBQ3I",
      "include_colab_link": true
    },
    "kernelspec": {
      "name": "python3",
      "display_name": "Python 3"
    },
    "language_info": {
      "name": "python"
    }
  },
  "cells": [
    {
      "cell_type": "markdown",
      "metadata": {
        "id": "view-in-github",
        "colab_type": "text"
      },
      "source": [
        "<a href=\"https://colab.research.google.com/github/jc533/ML_practices/blob/main/regression.ipynb\" target=\"_parent\"><img src=\"https://colab.research.google.com/assets/colab-badge.svg\" alt=\"Open In Colab\"/></a>"
      ]
    },
    {
      "cell_type": "markdown",
      "source": [
        "# regression\n",
        "output scalar\n",
        "- linear regression\n"
      ],
      "metadata": {
        "id": "wNP9cbmtBA-2"
      }
    },
    {
      "cell_type": "code",
      "source": [],
      "metadata": {
        "id": "n51NBp9OBPz2"
      },
      "execution_count": null,
      "outputs": []
    }
  ]
}