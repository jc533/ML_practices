{
  "nbformat": 4,
  "nbformat_minor": 0,
  "metadata": {
    "colab": {
      "provenance": [],
      "gpuType": "T4",
      "authorship_tag": "ABX9TyOkOcanF+pXcWgrStKDF1Qk",
      "include_colab_link": true
    },
    "kernelspec": {
      "name": "python3",
      "display_name": "Python 3"
    },
    "language_info": {
      "name": "python"
    },
    "accelerator": "GPU"
  },
  "cells": [
    {
      "cell_type": "markdown",
      "metadata": {
        "id": "view-in-github",
        "colab_type": "text"
      },
      "source": [
        "<a href=\"https://colab.research.google.com/github/jc533/ML_practices/blob/main/regression.ipynb\" target=\"_parent\"><img src=\"https://colab.research.google.com/assets/colab-badge.svg\" alt=\"Open In Colab\"/></a>"
      ]
    },
    {
      "cell_type": "markdown",
      "source": [
        "# regression\n",
        "output scalar\n",
        "- linear regression\n"
      ],
      "metadata": {
        "id": "wNP9cbmtBA-2"
      }
    },
    {
      "cell_type": "code",
      "source": [
        "# without pytorch"
      ],
      "metadata": {
        "id": "n51NBp9OBPz2"
      },
      "execution_count": null,
      "outputs": []
    },
    {
      "cell_type": "code",
      "source": [
        "# pytorch\n",
        "import numpy as np\n",
        "import torch\n",
        "from torch import nn\n",
        "from torch.utils.data import DataLoader, Dataset"
      ],
      "metadata": {
        "id": "FqB5cSNkECpZ"
      },
      "execution_count": null,
      "outputs": []
    },
    {
      "cell_type": "code",
      "source": [
        "# self written dataset\n",
        "def f(x):\n",
        "    return x*3+20;\n",
        "class MyDataset(Dataset):\n",
        "    def __init__(self,size=100):\n",
        "        x = np.random.rand(size)*100\n",
        "        self.x = torch.from_numpy(x)\n",
        "        self.y = torch.from_numpy(f(x)+np.random.rand(size)*10-np.random.rand(size)*10)\n",
        "        # self.data = torch.from_numpy(np.array([x,y]))\n",
        "    def __getitem__(self,index):\n",
        "        return torch.tensor([self.x[index]]),torch.tensor([self.y[index]])\n",
        "    def __len__(self):\n",
        "        return len(self.x)"
      ],
      "metadata": {
        "id": "9PyqBxDxGKQs"
      },
      "execution_count": null,
      "outputs": []
    },
    {
      "cell_type": "code",
      "source": [
        "# regression dataset\n"
      ],
      "metadata": {
        "id": "7afZ3qicUhwx"
      },
      "execution_count": null,
      "outputs": []
    },
    {
      "cell_type": "markdown",
      "source": [
        "```\n",
        "pytorch dataset structure\n",
        "hole: [\n",
        "    batch:[data: [data]]\n",
        "]\n",
        "```\n",
        "**learning rate too big might lead to loss inf**"
      ],
      "metadata": {
        "id": "VBCl_YgXIKJ7"
      }
    },
    {
      "cell_type": "code",
      "source": [
        "# model\n",
        "class Model(nn.Module):\n",
        "    def __init__(self):\n",
        "        super(Model, self).__init__()\n",
        "        self.net = nn.Linear(1,1)\n",
        "    def forward(self, x):\n",
        "        return self.net(x)"
      ],
      "metadata": {
        "id": "7m2PsGoYs37q"
      },
      "execution_count": null,
      "outputs": []
    },
    {
      "cell_type": "code",
      "source": [
        "# dataloader\n",
        "train,test = MyDataset(),MyDataset()\n",
        "train_loader = DataLoader(train, batch_size=1, shuffle=True)\n",
        "test_loader = DataLoader(test, batch_size=1, shuffle=False)"
      ],
      "metadata": {
        "id": "tOVfCz_7fgZ2"
      },
      "execution_count": null,
      "outputs": []
    },
    {
      "cell_type": "code",
      "source": [
        "model = Model()\n",
        "criterion = nn.MSELoss()\n",
        "optimizer = torch.optim.SGD(model.parameters(),1e-4)\n",
        "epochs = 5000\n",
        "loss_record = []\n",
        "model.double()\n",
        "for epoch in range(epochs):\n",
        "    model.train()\n",
        "    for x,y in train_loader:\n",
        "        optimizer.zero_grad()\n",
        "        pred = model(x)\n",
        "        loss = criterion(pred,y)\n",
        "        # print(loss.item())\n",
        "        loss_record.append(loss.item())\n",
        "        loss.backward()\n",
        "        optimizer.step()\n",
        "print(np.mean(loss_record))"
      ],
      "metadata": {
        "colab": {
          "base_uri": "https://localhost:8080/"
        },
        "id": "wv5MQmQDs96e",
        "outputId": "b6e1bbca-f0a9-4312-a401-17d173e1b8d4"
      },
      "execution_count": null,
      "outputs": [
        {
          "output_type": "stream",
          "name": "stdout",
          "text": [
            "33.042985475732436\n"
          ]
        }
      ]
    },
    {
      "cell_type": "code",
      "source": [
        "model.eval()\n",
        "preds = []\n",
        "loss_test = []\n",
        "for x,y in test_loader:\n",
        "    with torch.no_grad():\n",
        "        p = model(x)\n",
        "        preds.append(p.item())\n",
        "        loss_test.append(criterion(p,y))\n",
        "print(np.mean(loss_test))"
      ],
      "metadata": {
        "colab": {
          "base_uri": "https://localhost:8080/"
        },
        "id": "Jy0_V-vWPemu",
        "outputId": "5636511f-e26b-423f-a26f-ad3121645d53"
      },
      "execution_count": null,
      "outputs": [
        {
          "output_type": "stream",
          "name": "stdout",
          "text": [
            "21.0384793727677\n"
          ]
        }
      ]
    },
    {
      "cell_type": "code",
      "source": [
        "import matplotlib.pyplot as plt\n",
        "x = [i.item() for i in test.x]\n",
        "y = [i.item() for i in test.y]\n",
        "y_tr = [i.item() for i in train.y]\n",
        "x_tr = [i.item() for i in train.x]\n",
        "real = [f(i) for i in x]\n",
        "plt.plot(x,y,'o')\n",
        "# plt.xlim(0,1)\n",
        "# plt.ylim(0,30)\n",
        "plt.plot(x,preds,'-')\n",
        "plt.plot(x_tr,y_tr,'o')\n",
        "plt .plot(x,real)"
      ],
      "metadata": {
        "colab": {
          "base_uri": "https://localhost:8080/",
          "height": 447
        },
        "id": "ulVGJNeXJ01m",
        "outputId": "9ebc10f4-380c-4172-ef46-0a4915ba6439"
      },
      "execution_count": null,
      "outputs": [
        {
          "output_type": "execute_result",
          "data": {
            "text/plain": [
              "[<matplotlib.lines.Line2D at 0x7c47ed886b00>]"
            ]
          },
          "metadata": {},
          "execution_count": 30
        },
        {
          "output_type": "display_data",
          "data": {
            "text/plain": [
              "<Figure size 640x480 with 1 Axes>"
            ],
            "image/png": "[encoded data removed]"
          },
          "metadata": {}
        }
      ]
    }
  ]
}